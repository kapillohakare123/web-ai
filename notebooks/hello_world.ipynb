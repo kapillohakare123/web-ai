{
 "cells": [
  {
   "cell_type": "code",
   "execution_count": null,
   "metadata": {},
   "outputs": [],
   "source": [
    "import pandas as pd\n",
    "\n",
    "# Load the dataset\n",
    "df = pd.read_csv('vgsales.csv')  # Ensure the file 'vgsales.csv' exists in the current directory\n",
    "\n",
    "# display count of all data\n",
    "df.shape\n",
    "\n",
    "# Display the first few rows of the dataset\n",
    "# df.head()\n"
   ]
  },
  {
   "cell_type": "code",
   "execution_count": null,
   "metadata": {},
   "outputs": [],
   "source": [
    "df.describe() # Display the data types of each column"
   ]
  },
  {
   "cell_type": "code",
   "execution_count": null,
   "metadata": {},
   "outputs": [],
   "source": [
    "df.values"
   ]
  },
  {
   "cell_type": "code",
   "execution_count": 46,
   "metadata": {},
   "outputs": [
    {
     "name": "stdout",
     "output_type": "stream",
     "text": [
      "['HipHop' 'Dance' 'HipHop']\n"
     ]
    },
    {
     "name": "stderr",
     "output_type": "stream",
     "text": [
      "/Users/kapillohakare/Desktop/AIML/web_ai_platform/venv/lib/python3.13/site-packages/sklearn/utils/validation.py:2749: UserWarning: X does not have valid feature names, but DecisionTreeClassifier was fitted with feature names\n",
      "  warnings.warn(\n"
     ]
    }
   ],
   "source": [
    "# Build the Model\n",
    "import pandas as pd\n",
    "from sklearn.tree import DecisionTreeClassifier\n",
    "import joblib\n",
    "# Load the music dataset\n",
    "def new_func():\n",
    "    music_data = pd.read_csv('music.csv')\n",
    "    music_data.shape  # Display the shape of the music dataset\n",
    "    music_data.sample()\n",
    "    X = music_data.drop(columns=['genre'])\n",
    "    y = music_data['genre']\n",
    "\n",
    "    model = DecisionTreeClassifier()\n",
    "    # Fit the model to the data\n",
    "    model.fit(X, y)\n",
    "    return model\n",
    "model = new_func()\n",
    "\n",
    "# Predict the genre for a new sample\n",
    "predictions = model.predict([[21, 1], [22, 0], [23, 1]])\n",
    "print(predictions)  # Output the predictions for the new samples\n",
    "\n"
   ]
  },
  {
   "cell_type": "code",
   "execution_count": 38,
   "metadata": {},
   "outputs": [
    {
     "name": "stdout",
     "output_type": "stream",
     "text": [
      "Accuracy: 0.3333333333333333\n"
     ]
    }
   ],
   "source": [
    "# Train, Split and Test\n",
    "from sklearn.model_selection import train_test_split\n",
    "from sklearn.metrics import accuracy_score\n",
    "# Split the dataset into training and testing sets\n",
    "X_train, X_test, y_train, y_test = train_test_split(X, y, test_size=0.2)\n",
    "# Create a Decision Tree Classifier\n",
    "model = DecisionTreeClassifier()\n",
    "# Fit the model to the training data\n",
    "model.fit(X_train, y_train)\n",
    "# Predict the genre for the test set\n",
    "predictions = model.predict(X_test)\n",
    "# Output the predictions for the test set\n",
    "accuracy_score(y_test, predictions)  # Calculate the accuracy of the model\n",
    "# Output the accuracy score\n",
    "print(f\"Accuracy: {accuracy_score(y_test, predictions)}\")  # Print the accuracy score\n"
   ]
  },
  {
   "cell_type": "code",
   "execution_count": 45,
   "metadata": {},
   "outputs": [
    {
     "name": "stdout",
     "output_type": "stream",
     "text": [
      "['HipHop' 'Dance' 'HipHop']\n"
     ]
    },
    {
     "name": "stderr",
     "output_type": "stream",
     "text": [
      "/Users/kapillohakare/Desktop/AIML/web_ai_platform/venv/lib/python3.13/site-packages/sklearn/utils/validation.py:2749: UserWarning: X does not have valid feature names, but DecisionTreeClassifier was fitted with feature names\n",
      "  warnings.warn(\n"
     ]
    }
   ],
   "source": [
    "# Save and Load the Model\n",
    "model = joblib.load('music-recommender.joblib')  # Load the pre-trained model from a file\n",
    "joblib.dump(model, 'music-recommender.joblib')  # Save the model to a file\n",
    "# Predict the genre for a new sample\n",
    "predictions = model.predict([[21, 1], [22, 0], [23, 1]])\n",
    "print(predictions)  # Output the predictions for the new samples\n"
   ]
  },
  {
   "cell_type": "code",
   "execution_count": 47,
   "metadata": {},
   "outputs": [],
   "source": [
    "from sklearn import tree\n",
    "# Visualize the Decision Tree\n",
    "tree.export_graphviz(model, out_file='music-recommender.dot', \n",
    "                    feature_names=['age', 'gender'],\n",
    "                    class_names=sorted(y.unique()),\n",
    "                    label='all', \n",
    "                    rounded=True, \n",
    "                    filled=True)"
   ]
  },
  {
   "cell_type": "code",
   "execution_count": null,
   "metadata": {},
   "outputs": [],
   "source": []
  }
 ],
 "metadata": {
  "kernelspec": {
   "display_name": "venv",
   "language": "python",
   "name": "python3"
  },
  "language_info": {
   "codemirror_mode": {
    "name": "ipython",
    "version": 3
   },
   "file_extension": ".py",
   "mimetype": "text/x-python",
   "name": "python",
   "nbconvert_exporter": "python",
   "pygments_lexer": "ipython3",
   "version": "3.13.4"
  }
 },
 "nbformat": 4,
 "nbformat_minor": 2
}
